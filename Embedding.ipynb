{
 "cells": [
  {
   "cell_type": "code",
   "execution_count": 1,
   "metadata": {},
   "outputs": [],
   "source": [
    "import json\n",
    "import tensorflow as tf\n",
    "\n",
    "from tensorflow.keras.preprocessing.text import Tokenizer\n",
    "from tensorflow.keras.preprocessing.sequence import pad_sequences"
   ]
  },
  {
   "cell_type": "code",
   "execution_count": 2,
   "metadata": {},
   "outputs": [],
   "source": [
    "sentences = []\n",
    "labels = []\n",
    "\n",
    "with open('quotes.txt', 'r') as f:\n",
    "    for quote in f:\n",
    "        sentences.append(str(quote.strip()))\n",
    "\n",
    "with open('labels.txt', 'r') as f:\n",
    "    for label in f:\n",
    "        if 'vacuous' in label:\n",
    "            label = 0\n",
    "        else:\n",
    "            label = 1\n",
    "        labels.append(label)"
   ]
  },
  {
   "cell_type": "code",
   "execution_count": 3,
   "metadata": {},
   "outputs": [],
   "source": [
    "import random\n",
    "\n",
    "combined = list(zip(sentences, labels))\n",
    "random.shuffle(combined)\n",
    "\n",
    "sentences[:], labels[:] = zip(*combined)"
   ]
  },
  {
   "cell_type": "code",
   "execution_count": 4,
   "metadata": {},
   "outputs": [],
   "source": [
    "vocab_size = 10000\n",
    "embedding_dim = 8\n",
    "max_length = 150\n",
    "trunc_type='post'\n",
    "padding_type='post'\n",
    "oov_tok = \"<OOV>\"\n",
    "training_size = int(len(labels) * 0.8)"
   ]
  },
  {
   "cell_type": "code",
   "execution_count": 5,
   "metadata": {},
   "outputs": [],
   "source": [
    "training_sentences = sentences[0:training_size]\n",
    "testing_sentences = sentences[training_size:]\n",
    "training_labels = labels[0:training_size]\n",
    "testing_labels = labels[training_size:]"
   ]
  },
  {
   "cell_type": "code",
   "execution_count": 6,
   "metadata": {},
   "outputs": [],
   "source": [
    "tokenizer = Tokenizer(num_words=vocab_size, oov_token=oov_tok)\n",
    "tokenizer.fit_on_texts(training_sentences)\n",
    "\n",
    "word_index = tokenizer.word_index\n",
    "\n",
    "training_sequences = tokenizer.texts_to_sequences(training_sentences)\n",
    "training_padded = pad_sequences(training_sequences, maxlen=max_length, padding=padding_type, truncating=trunc_type)\n",
    "\n",
    "testing_sequences = tokenizer.texts_to_sequences(testing_sentences)\n",
    "testing_padded = pad_sequences(testing_sequences, maxlen=max_length, padding=padding_type, truncating=trunc_type)"
   ]
  },
  {
   "cell_type": "code",
   "execution_count": 7,
   "metadata": {},
   "outputs": [
    {
     "name": "stdout",
     "output_type": "stream",
     "text": [
      "Model: \"sequential\"\n",
      "_________________________________________________________________\n",
      "Layer (type)                 Output Shape              Param #   \n",
      "=================================================================\n",
      "embedding (Embedding)        (None, 150, 8)            80000     \n",
      "_________________________________________________________________\n",
      "global_average_pooling1d (Gl (None, 8)                 0         \n",
      "_________________________________________________________________\n",
      "dense (Dense)                (None, 16)                144       \n",
      "_________________________________________________________________\n",
      "dense_1 (Dense)              (None, 1)                 17        \n",
      "=================================================================\n",
      "Total params: 80,161\n",
      "Trainable params: 80,161\n",
      "Non-trainable params: 0\n",
      "_________________________________________________________________\n"
     ]
    }
   ],
   "source": [
    "model = tf.keras.Sequential([\n",
    "    tf.keras.layers.Embedding(vocab_size, embedding_dim, input_length=max_length),\n",
    "    tf.keras.layers.GlobalAveragePooling1D(), #if Flatten() crashes\n",
    "    tf.keras.layers.Dense(16, activation='tanh'),\n",
    "    tf.keras.layers.Dense(1, activation='sigmoid')\n",
    "])\n",
    "model.compile(loss='binary_crossentropy',optimizer='adam',metrics=['accuracy'])\n",
    "model.summary()"
   ]
  },
  {
   "cell_type": "code",
   "execution_count": 8,
   "metadata": {},
   "outputs": [
    {
     "name": "stderr",
     "output_type": "stream",
     "text": [
      "WARNING: Logging before flag parsing goes to stderr.\n",
      "W1008 15:41:16.832003  2700 deprecation.py:323] From c:\\users\\user\\appdata\\local\\programs\\python\\python36\\lib\\site-packages\\tensorflow\\python\\ops\\math_grad.py:1250: add_dispatch_support.<locals>.wrapper (from tensorflow.python.ops.array_ops) is deprecated and will be removed in a future version.\n",
      "Instructions for updating:\n",
      "Use tf.where in 2.0, which has the same broadcast rule as np.where\n"
     ]
    },
    {
     "name": "stdout",
     "output_type": "stream",
     "text": [
      "Train on 14800 samples, validate on 3700 samples\n",
      "Epoch 1/50\n",
      "14800/14800 - 2s - loss: 0.5817 - accuracy: 0.7255 - val_loss: 0.4406 - val_accuracy: 0.8284\n",
      "Epoch 2/50\n",
      "14800/14800 - 2s - loss: 0.3663 - accuracy: 0.8604 - val_loss: 0.3507 - val_accuracy: 0.8714\n",
      "Epoch 3/50\n",
      "14800/14800 - 1s - loss: 0.2935 - accuracy: 0.8911 - val_loss: 0.3043 - val_accuracy: 0.8868\n",
      "Epoch 4/50\n",
      "14800/14800 - 1s - loss: 0.2457 - accuracy: 0.9111 - val_loss: 0.2853 - val_accuracy: 0.9000\n",
      "Epoch 5/50\n",
      "14800/14800 - 2s - loss: 0.2097 - accuracy: 0.9236 - val_loss: 0.2738 - val_accuracy: 0.9024\n",
      "Epoch 6/50\n",
      "14800/14800 - 1s - loss: 0.1832 - accuracy: 0.9341 - val_loss: 0.2726 - val_accuracy: 0.9024\n",
      "Epoch 7/50\n",
      "14800/14800 - 1s - loss: 0.1619 - accuracy: 0.9414 - val_loss: 0.2659 - val_accuracy: 0.9022\n",
      "Epoch 8/50\n",
      "14800/14800 - 1s - loss: 0.1426 - accuracy: 0.9480 - val_loss: 0.2727 - val_accuracy: 0.9046\n",
      "Epoch 9/50\n",
      "14800/14800 - 1s - loss: 0.1278 - accuracy: 0.9542 - val_loss: 0.2793 - val_accuracy: 0.9054\n",
      "Epoch 10/50\n",
      "14800/14800 - 1s - loss: 0.1152 - accuracy: 0.9597 - val_loss: 0.2940 - val_accuracy: 0.9049\n",
      "Epoch 11/50\n",
      "14800/14800 - 2s - loss: 0.1026 - accuracy: 0.9643 - val_loss: 0.3038 - val_accuracy: 0.9057\n",
      "Epoch 12/50\n",
      "14800/14800 - 2s - loss: 0.0948 - accuracy: 0.9678 - val_loss: 0.3288 - val_accuracy: 0.8984\n",
      "Epoch 13/50\n",
      "14800/14800 - 1s - loss: 0.0846 - accuracy: 0.9718 - val_loss: 0.3430 - val_accuracy: 0.9041\n",
      "Epoch 14/50\n",
      "14800/14800 - 1s - loss: 0.0777 - accuracy: 0.9749 - val_loss: 0.3560 - val_accuracy: 0.9024\n",
      "Epoch 15/50\n",
      "14800/14800 - 1s - loss: 0.0708 - accuracy: 0.9772 - val_loss: 0.3817 - val_accuracy: 0.9027\n",
      "Epoch 16/50\n",
      "14800/14800 - 1s - loss: 0.0644 - accuracy: 0.9803 - val_loss: 0.3956 - val_accuracy: 0.8932\n",
      "Epoch 17/50\n",
      "14800/14800 - 2s - loss: 0.0614 - accuracy: 0.9809 - val_loss: 0.4346 - val_accuracy: 0.8984\n",
      "Epoch 18/50\n",
      "14800/14800 - 2s - loss: 0.0552 - accuracy: 0.9826 - val_loss: 0.4346 - val_accuracy: 0.8935\n",
      "Epoch 19/50\n",
      "14800/14800 - 2s - loss: 0.0511 - accuracy: 0.9838 - val_loss: 0.4637 - val_accuracy: 0.8819\n",
      "Epoch 20/50\n",
      "14800/14800 - 2s - loss: 0.0481 - accuracy: 0.9853 - val_loss: 0.4739 - val_accuracy: 0.8859\n",
      "Epoch 21/50\n",
      "14800/14800 - 2s - loss: 0.0448 - accuracy: 0.9861 - val_loss: 0.4969 - val_accuracy: 0.8857\n",
      "Epoch 22/50\n",
      "14800/14800 - 2s - loss: 0.0416 - accuracy: 0.9873 - val_loss: 0.5209 - val_accuracy: 0.8878\n",
      "Epoch 23/50\n",
      "14800/14800 - 2s - loss: 0.0396 - accuracy: 0.9871 - val_loss: 0.5430 - val_accuracy: 0.8835\n",
      "Epoch 24/50\n",
      "14800/14800 - 1s - loss: 0.0359 - accuracy: 0.9888 - val_loss: 0.5681 - val_accuracy: 0.8741\n",
      "Epoch 25/50\n",
      "14800/14800 - 2s - loss: 0.0337 - accuracy: 0.9897 - val_loss: 0.5889 - val_accuracy: 0.8805\n",
      "Epoch 26/50\n",
      "14800/14800 - 2s - loss: 0.0348 - accuracy: 0.9891 - val_loss: 0.6135 - val_accuracy: 0.8822\n",
      "Epoch 27/50\n",
      "14800/14800 - 2s - loss: 0.0300 - accuracy: 0.9902 - val_loss: 0.6350 - val_accuracy: 0.8795\n",
      "Epoch 28/50\n",
      "14800/14800 - 2s - loss: 0.0280 - accuracy: 0.9911 - val_loss: 0.6677 - val_accuracy: 0.8781\n",
      "Epoch 29/50\n",
      "14800/14800 - 2s - loss: 0.0266 - accuracy: 0.9921 - val_loss: 0.6811 - val_accuracy: 0.8749\n",
      "Epoch 30/50\n",
      "14800/14800 - 2s - loss: 0.0260 - accuracy: 0.9915 - val_loss: 0.7063 - val_accuracy: 0.8689\n",
      "Epoch 31/50\n",
      "14800/14800 - 2s - loss: 0.0245 - accuracy: 0.9919 - val_loss: 0.7313 - val_accuracy: 0.8743\n",
      "Epoch 32/50\n",
      "14800/14800 - 2s - loss: 0.0240 - accuracy: 0.9919 - val_loss: 0.7448 - val_accuracy: 0.8724\n",
      "Epoch 33/50\n",
      "14800/14800 - 1s - loss: 0.0223 - accuracy: 0.9917 - val_loss: 0.7797 - val_accuracy: 0.8762\n",
      "Epoch 34/50\n",
      "14800/14800 - 1s - loss: 0.0211 - accuracy: 0.9930 - val_loss: 0.8004 - val_accuracy: 0.8732\n",
      "Epoch 35/50\n",
      "14800/14800 - 1s - loss: 0.0200 - accuracy: 0.9930 - val_loss: 0.8234 - val_accuracy: 0.8735\n",
      "Epoch 36/50\n",
      "14800/14800 - 1s - loss: 0.0206 - accuracy: 0.9924 - val_loss: 0.8599 - val_accuracy: 0.8735\n",
      "Epoch 37/50\n",
      "14800/14800 - 1s - loss: 0.0190 - accuracy: 0.9943 - val_loss: 0.8493 - val_accuracy: 0.8686\n",
      "Epoch 38/50\n",
      "14800/14800 - 1s - loss: 0.0173 - accuracy: 0.9943 - val_loss: 0.8803 - val_accuracy: 0.8603\n",
      "Epoch 39/50\n",
      "14800/14800 - 1s - loss: 0.0169 - accuracy: 0.9943 - val_loss: 0.9026 - val_accuracy: 0.8595\n",
      "Epoch 40/50\n",
      "14800/14800 - 1s - loss: 0.0166 - accuracy: 0.9945 - val_loss: 0.9244 - val_accuracy: 0.8714\n",
      "Epoch 41/50\n",
      "14800/14800 - 1s - loss: 0.0171 - accuracy: 0.9947 - val_loss: 0.9436 - val_accuracy: 0.8700\n",
      "Epoch 42/50\n",
      "14800/14800 - 1s - loss: 0.0141 - accuracy: 0.9951 - val_loss: 0.9541 - val_accuracy: 0.8649\n",
      "Epoch 43/50\n",
      "14800/14800 - 1s - loss: 0.0155 - accuracy: 0.9947 - val_loss: 0.9649 - val_accuracy: 0.8635\n",
      "Epoch 44/50\n",
      "14800/14800 - 1s - loss: 0.0131 - accuracy: 0.9958 - val_loss: 0.9800 - val_accuracy: 0.8649\n",
      "Epoch 45/50\n",
      "14800/14800 - 1s - loss: 0.0161 - accuracy: 0.9947 - val_loss: 0.9918 - val_accuracy: 0.8646\n",
      "Epoch 46/50\n",
      "14800/14800 - 2s - loss: 0.0143 - accuracy: 0.9954 - val_loss: 1.0233 - val_accuracy: 0.8697\n",
      "Epoch 47/50\n",
      "14800/14800 - 2s - loss: 0.0131 - accuracy: 0.9956 - val_loss: 1.0454 - val_accuracy: 0.8527\n",
      "Epoch 48/50\n",
      "14800/14800 - 2s - loss: 0.0149 - accuracy: 0.9957 - val_loss: 1.0555 - val_accuracy: 0.8676\n",
      "Epoch 49/50\n",
      "14800/14800 - 2s - loss: 0.0145 - accuracy: 0.9946 - val_loss: 1.0577 - val_accuracy: 0.8562\n",
      "Epoch 50/50\n",
      "14800/14800 - 2s - loss: 0.0130 - accuracy: 0.9957 - val_loss: 1.0778 - val_accuracy: 0.8662\n"
     ]
    }
   ],
   "source": [
    "num_epochs = 50\n",
    "history = model.fit(training_padded, training_labels, epochs=num_epochs, validation_data=(testing_padded, testing_labels), verbose=2)"
   ]
  },
  {
   "cell_type": "code",
   "execution_count": 9,
   "metadata": {},
   "outputs": [],
   "source": [
    "import matplotlib.pyplot as plt\n",
    "\n",
    "def plot_graphs(history, string):\n",
    "  plt.plot(history.history[string])\n",
    "  plt.plot(history.history['val_'+string])\n",
    "  plt.xlabel(\"Epochs\")\n",
    "  plt.ylabel(string)\n",
    "  plt.legend([string, 'val_'+string])\n",
    "  plt.show()"
   ]
  },
  {
   "cell_type": "code",
   "execution_count": 10,
   "metadata": {},
   "outputs": [
    {
     "data": {
      "image/png": "[encoded data removed]",
      "text/plain": [
       "<Figure size 432x288 with 1 Axes>"
      ]
     },
     "metadata": {
      "needs_background": "light"
     },
     "output_type": "display_data"
    },
    {
     "data": {
      "image/png": "[encoded data removed]",
      "text/plain": [
       "<Figure size 432x288 with 1 Axes>"
      ]
     },
     "metadata": {
      "needs_background": "light"
     },
     "output_type": "display_data"
    }
   ],
   "source": [
    "plot_graphs(history, \"accuracy\")\n",
    "plot_graphs(history, \"loss\")"
   ]
  },
  {
   "cell_type": "code",
   "execution_count": 11,
   "metadata": {},
   "outputs": [],
   "source": [
    "reverse_word_index = dict([(value, key) for (key, value) in word_index.items()])\n",
    "\n",
    "def decode_sentence(sequence):\n",
    "    return ' '.join([reverse_word_index.get(i, '?') for i in sequence])"
   ]
  },
  {
   "cell_type": "code",
   "execution_count": 12,
   "metadata": {},
   "outputs": [
    {
     "name": "stdout",
     "output_type": "stream",
     "text": [
      "(10000, 8)\n",
      "[[-5.2848876e-02  7.7692363e-03 -2.3439694e-02 ...  3.6248151e-02\n",
      "   2.6956886e-02  7.5821055e-04]\n",
      " [ 1.0602108e-02  3.1077911e-03  5.0769757e-02 ... -5.9190724e-02\n",
      "  -6.5850563e-02  9.3735419e-02]\n",
      " [-6.0229033e-02 -5.9777737e-02 -3.5970002e-02 ... -1.5233399e-02\n",
      "   6.9933102e-02 -2.5531847e-02]\n",
      " ...\n",
      " [ 7.3426270e-01  7.3382050e-01  7.7935791e-01 ... -7.3522925e-01\n",
      "  -7.1088141e-01  8.2318676e-01]\n",
      " [-2.6493248e-01 -2.2570162e-01 -2.2754829e-01 ...  2.1254261e-01\n",
      "   2.2261657e-01 -2.0913826e-01]\n",
      " [ 4.9903533e-01  5.3906763e-01  4.8388451e-01 ... -4.5068657e-01\n",
      "  -5.0997871e-01  5.1243842e-01]]\n"
     ]
    }
   ],
   "source": [
    "e = model.layers[0]\n",
    "weights = e.get_weights()[0]\n",
    "print(weights.shape) # shape: (vocab_size, embedding_dim)\n",
    "print(weights)"
   ]
  },
  {
   "cell_type": "code",
   "execution_count": 13,
   "metadata": {},
   "outputs": [],
   "source": [
    "import io\n",
    "\n",
    "out_v = io.open('vecs_pseudo-profound.tsv', 'w', encoding='utf-8')\n",
    "out_m = io.open('meta_pseudo-profound.tsv', 'w', encoding='utf-8')\n",
    "for word_num in range(1, vocab_size):\n",
    "  word = reverse_word_index[word_num]\n",
    "  embeddings = weights[word_num]\n",
    "  out_m.write(word + \"\\n\")\n",
    "  out_v.write('\\t'.join([str(x) for x in embeddings]) + \"\\n\")\n",
    "out_v.close()\n",
    "out_m.close()"
   ]
  },
  {
   "cell_type": "code",
   "execution_count": 14,
   "metadata": {},
   "outputs": [
    {
     "name": "stdout",
     "output_type": "stream",
     "text": [
      "[[7.62044072e-01]\n",
      " [1.12907896e-04]]\n"
     ]
    }
   ],
   "source": [
    "texts = [\"You are basic!\", 'Live, laugh, love!']\n",
    "sequences = tokenizer.texts_to_sequences(texts)\n",
    "padded = pad_sequences(sequences, maxlen=max_length, padding=padding_type, truncating=trunc_type)\n",
    "print(model.predict(padded))"
   ]
  }
 ],
 "metadata": {
  "kernelspec": {
   "display_name": "Python 3",
   "language": "python",
   "name": "python3"
  },
  "language_info": {
   "codemirror_mode": {
    "name": "ipython",
    "version": 3
   },
   "file_extension": ".py",
   "mimetype": "text/x-python",
   "name": "python",
   "nbconvert_exporter": "python",
   "pygments_lexer": "ipython3",
   "version": "3.6.6"
  }
 },
 "nbformat": 4,
 "nbformat_minor": 2
}
